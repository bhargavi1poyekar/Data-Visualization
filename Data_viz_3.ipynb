{
  "nbformat": 4,
  "nbformat_minor": 0,
  "metadata": {
    "colab": {
      "provenance": []
    },
    "kernelspec": {
      "name": "python3",
      "display_name": "Python 3"
    },
    "language_info": {
      "name": "python"
    }
  },
  "cells": [
    {
      "cell_type": "code",
      "execution_count": 1,
      "metadata": {
        "id": "x-o5pSn5hgPp"
      },
      "outputs": [],
      "source": [
        "import pandas as pd\n",
        "import numpy as np\n",
        "import matplotlib.pyplot as plt\n",
        "import seaborn as sns"
      ]
    },
    {
      "cell_type": "code",
      "source": [
        "df=pd.read_csv('combined_test.csv')"
      ],
      "metadata": {
        "id": "b7glqO1NhrBs"
      },
      "execution_count": 2,
      "outputs": []
    },
    {
      "cell_type": "code",
      "source": [
        "df.head()"
      ],
      "metadata": {
        "colab": {
          "base_uri": "https://localhost:8080/",
          "height": 354
        },
        "id": "WckcYZoZhskR",
        "outputId": "f7191ea2-f017-4c17-914c-025b7fcf7ec1"
      },
      "execution_count": 3,
      "outputs": [
        {
          "output_type": "execute_result",
          "data": {
            "text/plain": [
              "   Unnamed: 0                 account1 followers post_count post_link  \\\n",
              "0         0.0                iliasx_01     1,797         10         _   \n",
              "1         1.0                iliasx_01     1,797         10         _   \n",
              "2         2.0  igers_drone_photography     1,797         10         _   \n",
              "3         3.0                iliasx_01     1,797         10         _   \n",
              "4         4.0                iliasx_01     1,797         10         _   \n",
              "\n",
              "                        location       long         lat        likes  \\\n",
              "0                      Eguisheim  7.3079618  48.0447968    925 likes   \n",
              "1                         Colmar  7.3579641  48.0777517    761 likes   \n",
              "2  Fira Santorini Island, Greece          _           _    508 likes   \n",
              "3             Strasbourg, France  7.7507127   48.584614  1,098 likes   \n",
              "4         Oía, Kikladhes, Greece          _           _  1,931 likes   \n",
              "\n",
              "                                         description                      time  \n",
              "0  Eguisheim, France 🇫🇷\\n\\n➡️ Follow @iliasx_01 f...  2022-10-07T17:18:44.000Z  \n",
              "1  Colmar, France 🇫🇷\\n\\n➡️ Follow @iliasx_01 for ...  2022-10-09T17:14:18.000Z  \n",
              "2  ✈️@igers_drone_photography\\nPresents the photo...  2022-10-10T05:59:44.000Z  \n",
              "3  Strasburg, France 🇫🇷\\n\\n➡️ Follow @iliasx_01 f...  2022-10-06T16:41:00.000Z  \n",
              "4  Santorini, Greece 🇬🇷💙\\n\\n➡️ Follow @iliasx_01 ...  2022-10-05T17:39:27.000Z  "
            ],
            "text/html": [
              "\n",
              "  <div id=\"df-7ff418ae-209d-4bd1-a66f-030b4b0f8741\">\n",
              "    <div class=\"colab-df-container\">\n",
              "      <div>\n",
              "<style scoped>\n",
              "    .dataframe tbody tr th:only-of-type {\n",
              "        vertical-align: middle;\n",
              "    }\n",
              "\n",
              "    .dataframe tbody tr th {\n",
              "        vertical-align: top;\n",
              "    }\n",
              "\n",
              "    .dataframe thead th {\n",
              "        text-align: right;\n",
              "    }\n",
              "</style>\n",
              "<table border=\"1\" class=\"dataframe\">\n",
              "  <thead>\n",
              "    <tr style=\"text-align: right;\">\n",
              "      <th></th>\n",
              "      <th>Unnamed: 0</th>\n",
              "      <th>account1</th>\n",
              "      <th>followers</th>\n",
              "      <th>post_count</th>\n",
              "      <th>post_link</th>\n",
              "      <th>location</th>\n",
              "      <th>long</th>\n",
              "      <th>lat</th>\n",
              "      <th>likes</th>\n",
              "      <th>description</th>\n",
              "      <th>time</th>\n",
              "    </tr>\n",
              "  </thead>\n",
              "  <tbody>\n",
              "    <tr>\n",
              "      <th>0</th>\n",
              "      <td>0.0</td>\n",
              "      <td>iliasx_01</td>\n",
              "      <td>1,797</td>\n",
              "      <td>10</td>\n",
              "      <td>_</td>\n",
              "      <td>Eguisheim</td>\n",
              "      <td>7.3079618</td>\n",
              "      <td>48.0447968</td>\n",
              "      <td>925 likes</td>\n",
              "      <td>Eguisheim, France 🇫🇷\\n\\n➡️ Follow @iliasx_01 f...</td>\n",
              "      <td>2022-10-07T17:18:44.000Z</td>\n",
              "    </tr>\n",
              "    <tr>\n",
              "      <th>1</th>\n",
              "      <td>1.0</td>\n",
              "      <td>iliasx_01</td>\n",
              "      <td>1,797</td>\n",
              "      <td>10</td>\n",
              "      <td>_</td>\n",
              "      <td>Colmar</td>\n",
              "      <td>7.3579641</td>\n",
              "      <td>48.0777517</td>\n",
              "      <td>761 likes</td>\n",
              "      <td>Colmar, France 🇫🇷\\n\\n➡️ Follow @iliasx_01 for ...</td>\n",
              "      <td>2022-10-09T17:14:18.000Z</td>\n",
              "    </tr>\n",
              "    <tr>\n",
              "      <th>2</th>\n",
              "      <td>2.0</td>\n",
              "      <td>igers_drone_photography</td>\n",
              "      <td>1,797</td>\n",
              "      <td>10</td>\n",
              "      <td>_</td>\n",
              "      <td>Fira Santorini Island, Greece</td>\n",
              "      <td>_</td>\n",
              "      <td>_</td>\n",
              "      <td>508 likes</td>\n",
              "      <td>✈️@igers_drone_photography\\nPresents the photo...</td>\n",
              "      <td>2022-10-10T05:59:44.000Z</td>\n",
              "    </tr>\n",
              "    <tr>\n",
              "      <th>3</th>\n",
              "      <td>3.0</td>\n",
              "      <td>iliasx_01</td>\n",
              "      <td>1,797</td>\n",
              "      <td>10</td>\n",
              "      <td>_</td>\n",
              "      <td>Strasbourg, France</td>\n",
              "      <td>7.7507127</td>\n",
              "      <td>48.584614</td>\n",
              "      <td>1,098 likes</td>\n",
              "      <td>Strasburg, France 🇫🇷\\n\\n➡️ Follow @iliasx_01 f...</td>\n",
              "      <td>2022-10-06T16:41:00.000Z</td>\n",
              "    </tr>\n",
              "    <tr>\n",
              "      <th>4</th>\n",
              "      <td>4.0</td>\n",
              "      <td>iliasx_01</td>\n",
              "      <td>1,797</td>\n",
              "      <td>10</td>\n",
              "      <td>_</td>\n",
              "      <td>Oía, Kikladhes, Greece</td>\n",
              "      <td>_</td>\n",
              "      <td>_</td>\n",
              "      <td>1,931 likes</td>\n",
              "      <td>Santorini, Greece 🇬🇷💙\\n\\n➡️ Follow @iliasx_01 ...</td>\n",
              "      <td>2022-10-05T17:39:27.000Z</td>\n",
              "    </tr>\n",
              "  </tbody>\n",
              "</table>\n",
              "</div>\n",
              "      <button class=\"colab-df-convert\" onclick=\"convertToInteractive('df-7ff418ae-209d-4bd1-a66f-030b4b0f8741')\"\n",
              "              title=\"Convert this dataframe to an interactive table.\"\n",
              "              style=\"display:none;\">\n",
              "        \n",
              "  <svg xmlns=\"http://www.w3.org/2000/svg\" height=\"24px\"viewBox=\"0 0 24 24\"\n",
              "       width=\"24px\">\n",
              "    <path d=\"M0 0h24v24H0V0z\" fill=\"none\"/>\n",
              "    <path d=\"M18.56 5.44l.94 2.06.94-2.06 2.06-.94-2.06-.94-.94-2.06-.94 2.06-2.06.94zm-11 1L8.5 8.5l.94-2.06 2.06-.94-2.06-.94L8.5 2.5l-.94 2.06-2.06.94zm10 10l.94 2.06.94-2.06 2.06-.94-2.06-.94-.94-2.06-.94 2.06-2.06.94z\"/><path d=\"M17.41 7.96l-1.37-1.37c-.4-.4-.92-.59-1.43-.59-.52 0-1.04.2-1.43.59L10.3 9.45l-7.72 7.72c-.78.78-.78 2.05 0 2.83L4 21.41c.39.39.9.59 1.41.59.51 0 1.02-.2 1.41-.59l7.78-7.78 2.81-2.81c.8-.78.8-2.07 0-2.86zM5.41 20L4 18.59l7.72-7.72 1.47 1.35L5.41 20z\"/>\n",
              "  </svg>\n",
              "      </button>\n",
              "      \n",
              "  <style>\n",
              "    .colab-df-container {\n",
              "      display:flex;\n",
              "      flex-wrap:wrap;\n",
              "      gap: 12px;\n",
              "    }\n",
              "\n",
              "    .colab-df-convert {\n",
              "      background-color: #E8F0FE;\n",
              "      border: none;\n",
              "      border-radius: 50%;\n",
              "      cursor: pointer;\n",
              "      display: none;\n",
              "      fill: #1967D2;\n",
              "      height: 32px;\n",
              "      padding: 0 0 0 0;\n",
              "      width: 32px;\n",
              "    }\n",
              "\n",
              "    .colab-df-convert:hover {\n",
              "      background-color: #E2EBFA;\n",
              "      box-shadow: 0px 1px 2px rgba(60, 64, 67, 0.3), 0px 1px 3px 1px rgba(60, 64, 67, 0.15);\n",
              "      fill: #174EA6;\n",
              "    }\n",
              "\n",
              "    [theme=dark] .colab-df-convert {\n",
              "      background-color: #3B4455;\n",
              "      fill: #D2E3FC;\n",
              "    }\n",
              "\n",
              "    [theme=dark] .colab-df-convert:hover {\n",
              "      background-color: #434B5C;\n",
              "      box-shadow: 0px 1px 3px 1px rgba(0, 0, 0, 0.15);\n",
              "      filter: drop-shadow(0px 1px 2px rgba(0, 0, 0, 0.3));\n",
              "      fill: #FFFFFF;\n",
              "    }\n",
              "  </style>\n",
              "\n",
              "      <script>\n",
              "        const buttonEl =\n",
              "          document.querySelector('#df-7ff418ae-209d-4bd1-a66f-030b4b0f8741 button.colab-df-convert');\n",
              "        buttonEl.style.display =\n",
              "          google.colab.kernel.accessAllowed ? 'block' : 'none';\n",
              "\n",
              "        async function convertToInteractive(key) {\n",
              "          const element = document.querySelector('#df-7ff418ae-209d-4bd1-a66f-030b4b0f8741');\n",
              "          const dataTable =\n",
              "            await google.colab.kernel.invokeFunction('convertToInteractive',\n",
              "                                                     [key], {});\n",
              "          if (!dataTable) return;\n",
              "\n",
              "          const docLinkHtml = 'Like what you see? Visit the ' +\n",
              "            '<a target=\"_blank\" href=https://colab.research.google.com/notebooks/data_table.ipynb>data table notebook</a>'\n",
              "            + ' to learn more about interactive tables.';\n",
              "          element.innerHTML = '';\n",
              "          dataTable['output_type'] = 'display_data';\n",
              "          await google.colab.output.renderOutput(dataTable, element);\n",
              "          const docLink = document.createElement('div');\n",
              "          docLink.innerHTML = docLinkHtml;\n",
              "          element.appendChild(docLink);\n",
              "        }\n",
              "      </script>\n",
              "    </div>\n",
              "  </div>\n",
              "  "
            ]
          },
          "metadata": {},
          "execution_count": 3
        }
      ]
    },
    {
      "cell_type": "code",
      "source": [
        "df.info()"
      ],
      "metadata": {
        "colab": {
          "base_uri": "https://localhost:8080/"
        },
        "id": "sB5DfDTChuzN",
        "outputId": "c585083c-e0cf-4a0b-e5d8-6f20d93abb65"
      },
      "execution_count": 4,
      "outputs": [
        {
          "output_type": "stream",
          "name": "stdout",
          "text": [
            "<class 'pandas.core.frame.DataFrame'>\n",
            "RangeIndex: 2402 entries, 0 to 2401\n",
            "Data columns (total 11 columns):\n",
            " #   Column       Non-Null Count  Dtype  \n",
            "---  ------       --------------  -----  \n",
            " 0   Unnamed: 0   2400 non-null   float64\n",
            " 1   account1     2402 non-null   object \n",
            " 2   followers    2402 non-null   object \n",
            " 3   post_count   2402 non-null   object \n",
            " 4   post_link    2402 non-null   object \n",
            " 5   location     2402 non-null   object \n",
            " 6   long         2402 non-null   object \n",
            " 7   lat          2402 non-null   object \n",
            " 8   likes        2402 non-null   object \n",
            " 9   description  2402 non-null   object \n",
            " 10  time         2402 non-null   object \n",
            "dtypes: float64(1), object(10)\n",
            "memory usage: 206.5+ KB\n"
          ]
        }
      ]
    },
    {
      "cell_type": "code",
      "source": [
        "df=df.drop(['post_count','post_link','description'], axis=1)"
      ],
      "metadata": {
        "id": "3t7qUzSshxJ1"
      },
      "execution_count": 5,
      "outputs": []
    },
    {
      "cell_type": "code",
      "source": [
        "df.head()"
      ],
      "metadata": {
        "colab": {
          "base_uri": "https://localhost:8080/",
          "height": 206
        },
        "id": "tVbggXUFhzX2",
        "outputId": "b3d2ec8d-da99-4129-a6dd-8b07f2ca9fcf"
      },
      "execution_count": 6,
      "outputs": [
        {
          "output_type": "execute_result",
          "data": {
            "text/plain": [
              "   Unnamed: 0                 account1 followers  \\\n",
              "0         0.0                iliasx_01     1,797   \n",
              "1         1.0                iliasx_01     1,797   \n",
              "2         2.0  igers_drone_photography     1,797   \n",
              "3         3.0                iliasx_01     1,797   \n",
              "4         4.0                iliasx_01     1,797   \n",
              "\n",
              "                        location       long         lat        likes  \\\n",
              "0                      Eguisheim  7.3079618  48.0447968    925 likes   \n",
              "1                         Colmar  7.3579641  48.0777517    761 likes   \n",
              "2  Fira Santorini Island, Greece          _           _    508 likes   \n",
              "3             Strasbourg, France  7.7507127   48.584614  1,098 likes   \n",
              "4         Oía, Kikladhes, Greece          _           _  1,931 likes   \n",
              "\n",
              "                       time  \n",
              "0  2022-10-07T17:18:44.000Z  \n",
              "1  2022-10-09T17:14:18.000Z  \n",
              "2  2022-10-10T05:59:44.000Z  \n",
              "3  2022-10-06T16:41:00.000Z  \n",
              "4  2022-10-05T17:39:27.000Z  "
            ],
            "text/html": [
              "\n",
              "  <div id=\"df-8ec4401b-f72e-4784-a6fd-9dcf9d308a1e\">\n",
              "    <div class=\"colab-df-container\">\n",
              "      <div>\n",
              "<style scoped>\n",
              "    .dataframe tbody tr th:only-of-type {\n",
              "        vertical-align: middle;\n",
              "    }\n",
              "\n",
              "    .dataframe tbody tr th {\n",
              "        vertical-align: top;\n",
              "    }\n",
              "\n",
              "    .dataframe thead th {\n",
              "        text-align: right;\n",
              "    }\n",
              "</style>\n",
              "<table border=\"1\" class=\"dataframe\">\n",
              "  <thead>\n",
              "    <tr style=\"text-align: right;\">\n",
              "      <th></th>\n",
              "      <th>Unnamed: 0</th>\n",
              "      <th>account1</th>\n",
              "      <th>followers</th>\n",
              "      <th>location</th>\n",
              "      <th>long</th>\n",
              "      <th>lat</th>\n",
              "      <th>likes</th>\n",
              "      <th>time</th>\n",
              "    </tr>\n",
              "  </thead>\n",
              "  <tbody>\n",
              "    <tr>\n",
              "      <th>0</th>\n",
              "      <td>0.0</td>\n",
              "      <td>iliasx_01</td>\n",
              "      <td>1,797</td>\n",
              "      <td>Eguisheim</td>\n",
              "      <td>7.3079618</td>\n",
              "      <td>48.0447968</td>\n",
              "      <td>925 likes</td>\n",
              "      <td>2022-10-07T17:18:44.000Z</td>\n",
              "    </tr>\n",
              "    <tr>\n",
              "      <th>1</th>\n",
              "      <td>1.0</td>\n",
              "      <td>iliasx_01</td>\n",
              "      <td>1,797</td>\n",
              "      <td>Colmar</td>\n",
              "      <td>7.3579641</td>\n",
              "      <td>48.0777517</td>\n",
              "      <td>761 likes</td>\n",
              "      <td>2022-10-09T17:14:18.000Z</td>\n",
              "    </tr>\n",
              "    <tr>\n",
              "      <th>2</th>\n",
              "      <td>2.0</td>\n",
              "      <td>igers_drone_photography</td>\n",
              "      <td>1,797</td>\n",
              "      <td>Fira Santorini Island, Greece</td>\n",
              "      <td>_</td>\n",
              "      <td>_</td>\n",
              "      <td>508 likes</td>\n",
              "      <td>2022-10-10T05:59:44.000Z</td>\n",
              "    </tr>\n",
              "    <tr>\n",
              "      <th>3</th>\n",
              "      <td>3.0</td>\n",
              "      <td>iliasx_01</td>\n",
              "      <td>1,797</td>\n",
              "      <td>Strasbourg, France</td>\n",
              "      <td>7.7507127</td>\n",
              "      <td>48.584614</td>\n",
              "      <td>1,098 likes</td>\n",
              "      <td>2022-10-06T16:41:00.000Z</td>\n",
              "    </tr>\n",
              "    <tr>\n",
              "      <th>4</th>\n",
              "      <td>4.0</td>\n",
              "      <td>iliasx_01</td>\n",
              "      <td>1,797</td>\n",
              "      <td>Oía, Kikladhes, Greece</td>\n",
              "      <td>_</td>\n",
              "      <td>_</td>\n",
              "      <td>1,931 likes</td>\n",
              "      <td>2022-10-05T17:39:27.000Z</td>\n",
              "    </tr>\n",
              "  </tbody>\n",
              "</table>\n",
              "</div>\n",
              "      <button class=\"colab-df-convert\" onclick=\"convertToInteractive('df-8ec4401b-f72e-4784-a6fd-9dcf9d308a1e')\"\n",
              "              title=\"Convert this dataframe to an interactive table.\"\n",
              "              style=\"display:none;\">\n",
              "        \n",
              "  <svg xmlns=\"http://www.w3.org/2000/svg\" height=\"24px\"viewBox=\"0 0 24 24\"\n",
              "       width=\"24px\">\n",
              "    <path d=\"M0 0h24v24H0V0z\" fill=\"none\"/>\n",
              "    <path d=\"M18.56 5.44l.94 2.06.94-2.06 2.06-.94-2.06-.94-.94-2.06-.94 2.06-2.06.94zm-11 1L8.5 8.5l.94-2.06 2.06-.94-2.06-.94L8.5 2.5l-.94 2.06-2.06.94zm10 10l.94 2.06.94-2.06 2.06-.94-2.06-.94-.94-2.06-.94 2.06-2.06.94z\"/><path d=\"M17.41 7.96l-1.37-1.37c-.4-.4-.92-.59-1.43-.59-.52 0-1.04.2-1.43.59L10.3 9.45l-7.72 7.72c-.78.78-.78 2.05 0 2.83L4 21.41c.39.39.9.59 1.41.59.51 0 1.02-.2 1.41-.59l7.78-7.78 2.81-2.81c.8-.78.8-2.07 0-2.86zM5.41 20L4 18.59l7.72-7.72 1.47 1.35L5.41 20z\"/>\n",
              "  </svg>\n",
              "      </button>\n",
              "      \n",
              "  <style>\n",
              "    .colab-df-container {\n",
              "      display:flex;\n",
              "      flex-wrap:wrap;\n",
              "      gap: 12px;\n",
              "    }\n",
              "\n",
              "    .colab-df-convert {\n",
              "      background-color: #E8F0FE;\n",
              "      border: none;\n",
              "      border-radius: 50%;\n",
              "      cursor: pointer;\n",
              "      display: none;\n",
              "      fill: #1967D2;\n",
              "      height: 32px;\n",
              "      padding: 0 0 0 0;\n",
              "      width: 32px;\n",
              "    }\n",
              "\n",
              "    .colab-df-convert:hover {\n",
              "      background-color: #E2EBFA;\n",
              "      box-shadow: 0px 1px 2px rgba(60, 64, 67, 0.3), 0px 1px 3px 1px rgba(60, 64, 67, 0.15);\n",
              "      fill: #174EA6;\n",
              "    }\n",
              "\n",
              "    [theme=dark] .colab-df-convert {\n",
              "      background-color: #3B4455;\n",
              "      fill: #D2E3FC;\n",
              "    }\n",
              "\n",
              "    [theme=dark] .colab-df-convert:hover {\n",
              "      background-color: #434B5C;\n",
              "      box-shadow: 0px 1px 3px 1px rgba(0, 0, 0, 0.15);\n",
              "      filter: drop-shadow(0px 1px 2px rgba(0, 0, 0, 0.3));\n",
              "      fill: #FFFFFF;\n",
              "    }\n",
              "  </style>\n",
              "\n",
              "      <script>\n",
              "        const buttonEl =\n",
              "          document.querySelector('#df-8ec4401b-f72e-4784-a6fd-9dcf9d308a1e button.colab-df-convert');\n",
              "        buttonEl.style.display =\n",
              "          google.colab.kernel.accessAllowed ? 'block' : 'none';\n",
              "\n",
              "        async function convertToInteractive(key) {\n",
              "          const element = document.querySelector('#df-8ec4401b-f72e-4784-a6fd-9dcf9d308a1e');\n",
              "          const dataTable =\n",
              "            await google.colab.kernel.invokeFunction('convertToInteractive',\n",
              "                                                     [key], {});\n",
              "          if (!dataTable) return;\n",
              "\n",
              "          const docLinkHtml = 'Like what you see? Visit the ' +\n",
              "            '<a target=\"_blank\" href=https://colab.research.google.com/notebooks/data_table.ipynb>data table notebook</a>'\n",
              "            + ' to learn more about interactive tables.';\n",
              "          element.innerHTML = '';\n",
              "          dataTable['output_type'] = 'display_data';\n",
              "          await google.colab.output.renderOutput(dataTable, element);\n",
              "          const docLink = document.createElement('div');\n",
              "          docLink.innerHTML = docLinkHtml;\n",
              "          element.appendChild(docLink);\n",
              "        }\n",
              "      </script>\n",
              "    </div>\n",
              "  </div>\n",
              "  "
            ]
          },
          "metadata": {},
          "execution_count": 6
        }
      ]
    },
    {
      "cell_type": "code",
      "source": [
        "df['likes']=[i.split(' ')[0].replace(',','') for i in df['likes']]"
      ],
      "metadata": {
        "id": "W4WxeGaLh1kW"
      },
      "execution_count": 7,
      "outputs": []
    },
    {
      "cell_type": "code",
      "source": [
        "df.shape"
      ],
      "metadata": {
        "colab": {
          "base_uri": "https://localhost:8080/"
        },
        "id": "iiRC9GBVh3a2",
        "outputId": "037e6f28-80ca-4be8-d980-cbc4da6ce6c7"
      },
      "execution_count": 8,
      "outputs": [
        {
          "output_type": "execute_result",
          "data": {
            "text/plain": [
              "(2402, 8)"
            ]
          },
          "metadata": {},
          "execution_count": 8
        }
      ]
    },
    {
      "cell_type": "code",
      "source": [
        "df['likes']=[np.nan if not i.isdigit() else int(i) for i in df['likes']]\n"
      ],
      "metadata": {
        "id": "ncHcqG5Mh6Qw"
      },
      "execution_count": 9,
      "outputs": []
    },
    {
      "cell_type": "code",
      "source": [
        "df['long']=df['long'].replace('_',np.nan)\n",
        "df['lat']=df['lat'].replace('_',np.nan)\n",
        "df['location']=df['location'].replace('_',np.nan)"
      ],
      "metadata": {
        "id": "KTfkKJ5qh8hR"
      },
      "execution_count": 10,
      "outputs": []
    },
    {
      "cell_type": "code",
      "source": [
        "df.isna().sum()"
      ],
      "metadata": {
        "colab": {
          "base_uri": "https://localhost:8080/"
        },
        "id": "fjU03xxvMpJy",
        "outputId": "54b76ca4-8784-4bf0-bd52-4adbfa20059a"
      },
      "execution_count": 11,
      "outputs": [
        {
          "output_type": "execute_result",
          "data": {
            "text/plain": [
              "Unnamed: 0      2\n",
              "account1        0\n",
              "followers       0\n",
              "location      578\n",
              "long          903\n",
              "lat           903\n",
              "likes         321\n",
              "time            0\n",
              "dtype: int64"
            ]
          },
          "metadata": {},
          "execution_count": 11
        }
      ]
    },
    {
      "cell_type": "code",
      "source": [
        "df = df[df['long'].notna()]"
      ],
      "metadata": {
        "id": "guP4kQEkw29w"
      },
      "execution_count": 112,
      "outputs": []
    },
    {
      "cell_type": "code",
      "source": [
        "df.isna().sum()"
      ],
      "metadata": {
        "colab": {
          "base_uri": "https://localhost:8080/"
        },
        "id": "CouyekPPh-wJ",
        "outputId": "55de2f0b-169e-4ca7-9a1f-5a98106071e7"
      },
      "execution_count": 113,
      "outputs": [
        {
          "output_type": "execute_result",
          "data": {
            "text/plain": [
              "Unnamed: 0      2\n",
              "account1        0\n",
              "followers       0\n",
              "location        0\n",
              "long            0\n",
              "lat             0\n",
              "likes         184\n",
              "time            0\n",
              "dtype: int64"
            ]
          },
          "metadata": {},
          "execution_count": 113
        }
      ]
    },
    {
      "cell_type": "code",
      "source": [
        "# df=df.dropna()"
      ],
      "metadata": {
        "id": "4h3GxVhDiBWp"
      },
      "execution_count": 114,
      "outputs": []
    },
    {
      "cell_type": "code",
      "source": [
        "df['location']=[str(i).split(', ')[-1] for i in df['location']]"
      ],
      "metadata": {
        "colab": {
          "base_uri": "https://localhost:8080/"
        },
        "id": "PppUWlRIjSYH",
        "outputId": "41413fb5-94f6-42ba-cb09-6cd26572ccf6"
      },
      "execution_count": 115,
      "outputs": [
        {
          "output_type": "stream",
          "name": "stderr",
          "text": [
            "/usr/local/lib/python3.7/dist-packages/ipykernel_launcher.py:1: SettingWithCopyWarning: \n",
            "A value is trying to be set on a copy of a slice from a DataFrame.\n",
            "Try using .loc[row_indexer,col_indexer] = value instead\n",
            "\n",
            "See the caveats in the documentation: https://pandas.pydata.org/pandas-docs/stable/user_guide/indexing.html#returning-a-view-versus-a-copy\n",
            "  \"\"\"Entry point for launching an IPython kernel.\n"
          ]
        }
      ]
    },
    {
      "cell_type": "code",
      "source": [
        "no_unique = pd.DataFrame({'Variable': df.columns,\n",
        "                               'Classes': [df[i].nunique() for i in df.columns]})\n",
        "\n",
        "no_unique = no_unique.sort_values('Classes', ascending=False) #sort in descending order of number of unique values.\n",
        "no_unique = no_unique.reset_index(drop = True) # reset the index back to the default 0, 1, 2 etc indexes."
      ],
      "metadata": {
        "id": "uWfn8IQqjiFo"
      },
      "execution_count": 116,
      "outputs": []
    },
    {
      "cell_type": "code",
      "source": [
        "no_unique"
      ],
      "metadata": {
        "colab": {
          "base_uri": "https://localhost:8080/",
          "height": 300
        },
        "id": "yNA6THgtj4bF",
        "outputId": "30b4314c-dd8a-4ccb-9b12-91f11c64f70b"
      },
      "execution_count": 117,
      "outputs": [
        {
          "output_type": "execute_result",
          "data": {
            "text/plain": [
              "     Variable  Classes\n",
              "0        time     1459\n",
              "1  Unnamed: 0     1021\n",
              "2        long      730\n",
              "3         lat      730\n",
              "4       likes      643\n",
              "5    location      635\n",
              "6    account1       54\n",
              "7   followers       48"
            ],
            "text/html": [
              "\n",
              "  <div id=\"df-5764349d-dc0f-4a8b-8205-445e3c4daf02\">\n",
              "    <div class=\"colab-df-container\">\n",
              "      <div>\n",
              "<style scoped>\n",
              "    .dataframe tbody tr th:only-of-type {\n",
              "        vertical-align: middle;\n",
              "    }\n",
              "\n",
              "    .dataframe tbody tr th {\n",
              "        vertical-align: top;\n",
              "    }\n",
              "\n",
              "    .dataframe thead th {\n",
              "        text-align: right;\n",
              "    }\n",
              "</style>\n",
              "<table border=\"1\" class=\"dataframe\">\n",
              "  <thead>\n",
              "    <tr style=\"text-align: right;\">\n",
              "      <th></th>\n",
              "      <th>Variable</th>\n",
              "      <th>Classes</th>\n",
              "    </tr>\n",
              "  </thead>\n",
              "  <tbody>\n",
              "    <tr>\n",
              "      <th>0</th>\n",
              "      <td>time</td>\n",
              "      <td>1459</td>\n",
              "    </tr>\n",
              "    <tr>\n",
              "      <th>1</th>\n",
              "      <td>Unnamed: 0</td>\n",
              "      <td>1021</td>\n",
              "    </tr>\n",
              "    <tr>\n",
              "      <th>2</th>\n",
              "      <td>long</td>\n",
              "      <td>730</td>\n",
              "    </tr>\n",
              "    <tr>\n",
              "      <th>3</th>\n",
              "      <td>lat</td>\n",
              "      <td>730</td>\n",
              "    </tr>\n",
              "    <tr>\n",
              "      <th>4</th>\n",
              "      <td>likes</td>\n",
              "      <td>643</td>\n",
              "    </tr>\n",
              "    <tr>\n",
              "      <th>5</th>\n",
              "      <td>location</td>\n",
              "      <td>635</td>\n",
              "    </tr>\n",
              "    <tr>\n",
              "      <th>6</th>\n",
              "      <td>account1</td>\n",
              "      <td>54</td>\n",
              "    </tr>\n",
              "    <tr>\n",
              "      <th>7</th>\n",
              "      <td>followers</td>\n",
              "      <td>48</td>\n",
              "    </tr>\n",
              "  </tbody>\n",
              "</table>\n",
              "</div>\n",
              "      <button class=\"colab-df-convert\" onclick=\"convertToInteractive('df-5764349d-dc0f-4a8b-8205-445e3c4daf02')\"\n",
              "              title=\"Convert this dataframe to an interactive table.\"\n",
              "              style=\"display:none;\">\n",
              "        \n",
              "  <svg xmlns=\"http://www.w3.org/2000/svg\" height=\"24px\"viewBox=\"0 0 24 24\"\n",
              "       width=\"24px\">\n",
              "    <path d=\"M0 0h24v24H0V0z\" fill=\"none\"/>\n",
              "    <path d=\"M18.56 5.44l.94 2.06.94-2.06 2.06-.94-2.06-.94-.94-2.06-.94 2.06-2.06.94zm-11 1L8.5 8.5l.94-2.06 2.06-.94-2.06-.94L8.5 2.5l-.94 2.06-2.06.94zm10 10l.94 2.06.94-2.06 2.06-.94-2.06-.94-.94-2.06-.94 2.06-2.06.94z\"/><path d=\"M17.41 7.96l-1.37-1.37c-.4-.4-.92-.59-1.43-.59-.52 0-1.04.2-1.43.59L10.3 9.45l-7.72 7.72c-.78.78-.78 2.05 0 2.83L4 21.41c.39.39.9.59 1.41.59.51 0 1.02-.2 1.41-.59l7.78-7.78 2.81-2.81c.8-.78.8-2.07 0-2.86zM5.41 20L4 18.59l7.72-7.72 1.47 1.35L5.41 20z\"/>\n",
              "  </svg>\n",
              "      </button>\n",
              "      \n",
              "  <style>\n",
              "    .colab-df-container {\n",
              "      display:flex;\n",
              "      flex-wrap:wrap;\n",
              "      gap: 12px;\n",
              "    }\n",
              "\n",
              "    .colab-df-convert {\n",
              "      background-color: #E8F0FE;\n",
              "      border: none;\n",
              "      border-radius: 50%;\n",
              "      cursor: pointer;\n",
              "      display: none;\n",
              "      fill: #1967D2;\n",
              "      height: 32px;\n",
              "      padding: 0 0 0 0;\n",
              "      width: 32px;\n",
              "    }\n",
              "\n",
              "    .colab-df-convert:hover {\n",
              "      background-color: #E2EBFA;\n",
              "      box-shadow: 0px 1px 2px rgba(60, 64, 67, 0.3), 0px 1px 3px 1px rgba(60, 64, 67, 0.15);\n",
              "      fill: #174EA6;\n",
              "    }\n",
              "\n",
              "    [theme=dark] .colab-df-convert {\n",
              "      background-color: #3B4455;\n",
              "      fill: #D2E3FC;\n",
              "    }\n",
              "\n",
              "    [theme=dark] .colab-df-convert:hover {\n",
              "      background-color: #434B5C;\n",
              "      box-shadow: 0px 1px 3px 1px rgba(0, 0, 0, 0.15);\n",
              "      filter: drop-shadow(0px 1px 2px rgba(0, 0, 0, 0.3));\n",
              "      fill: #FFFFFF;\n",
              "    }\n",
              "  </style>\n",
              "\n",
              "      <script>\n",
              "        const buttonEl =\n",
              "          document.querySelector('#df-5764349d-dc0f-4a8b-8205-445e3c4daf02 button.colab-df-convert');\n",
              "        buttonEl.style.display =\n",
              "          google.colab.kernel.accessAllowed ? 'block' : 'none';\n",
              "\n",
              "        async function convertToInteractive(key) {\n",
              "          const element = document.querySelector('#df-5764349d-dc0f-4a8b-8205-445e3c4daf02');\n",
              "          const dataTable =\n",
              "            await google.colab.kernel.invokeFunction('convertToInteractive',\n",
              "                                                     [key], {});\n",
              "          if (!dataTable) return;\n",
              "\n",
              "          const docLinkHtml = 'Like what you see? Visit the ' +\n",
              "            '<a target=\"_blank\" href=https://colab.research.google.com/notebooks/data_table.ipynb>data table notebook</a>'\n",
              "            + ' to learn more about interactive tables.';\n",
              "          element.innerHTML = '';\n",
              "          dataTable['output_type'] = 'display_data';\n",
              "          await google.colab.output.renderOutput(dataTable, element);\n",
              "          const docLink = document.createElement('div');\n",
              "          docLink.innerHTML = docLinkHtml;\n",
              "          element.appendChild(docLink);\n",
              "        }\n",
              "      </script>\n",
              "    </div>\n",
              "  </div>\n",
              "  "
            ]
          },
          "metadata": {},
          "execution_count": 117
        }
      ]
    },
    {
      "cell_type": "code",
      "source": [
        "df['followers']=[i.replace(',','') for i in df['followers']]\n",
        "df['followers']=[np.nan if not i.isdigit() else int(i) for i in df['followers']]"
      ],
      "metadata": {
        "colab": {
          "base_uri": "https://localhost:8080/"
        },
        "id": "82k410ZZlDPm",
        "outputId": "5cbca948-335f-4ca8-cbcb-7ec2ecfe49bc"
      },
      "execution_count": 118,
      "outputs": [
        {
          "output_type": "stream",
          "name": "stderr",
          "text": [
            "/usr/local/lib/python3.7/dist-packages/ipykernel_launcher.py:1: SettingWithCopyWarning: \n",
            "A value is trying to be set on a copy of a slice from a DataFrame.\n",
            "Try using .loc[row_indexer,col_indexer] = value instead\n",
            "\n",
            "See the caveats in the documentation: https://pandas.pydata.org/pandas-docs/stable/user_guide/indexing.html#returning-a-view-versus-a-copy\n",
            "  \"\"\"Entry point for launching an IPython kernel.\n",
            "/usr/local/lib/python3.7/dist-packages/ipykernel_launcher.py:2: SettingWithCopyWarning: \n",
            "A value is trying to be set on a copy of a slice from a DataFrame.\n",
            "Try using .loc[row_indexer,col_indexer] = value instead\n",
            "\n",
            "See the caveats in the documentation: https://pandas.pydata.org/pandas-docs/stable/user_guide/indexing.html#returning-a-view-versus-a-copy\n",
            "  \n"
          ]
        }
      ]
    },
    {
      "cell_type": "code",
      "source": [
        "df.info()"
      ],
      "metadata": {
        "colab": {
          "base_uri": "https://localhost:8080/"
        },
        "id": "YsR_tZJhlmv0",
        "outputId": "0a621117-4521-4493-cf17-e941ecc90603"
      },
      "execution_count": 119,
      "outputs": [
        {
          "output_type": "stream",
          "name": "stdout",
          "text": [
            "<class 'pandas.core.frame.DataFrame'>\n",
            "Int64Index: 1499 entries, 0 to 2395\n",
            "Data columns (total 8 columns):\n",
            " #   Column      Non-Null Count  Dtype  \n",
            "---  ------      --------------  -----  \n",
            " 0   Unnamed: 0  1497 non-null   float64\n",
            " 1   account1    1499 non-null   object \n",
            " 2   followers   1497 non-null   float64\n",
            " 3   location    1499 non-null   object \n",
            " 4   long        1499 non-null   object \n",
            " 5   lat         1499 non-null   object \n",
            " 6   likes       1315 non-null   float64\n",
            " 7   time        1499 non-null   object \n",
            "dtypes: float64(3), object(5)\n",
            "memory usage: 105.4+ KB\n"
          ]
        }
      ]
    },
    {
      "cell_type": "code",
      "source": [
        "# df.iloc[621][4]\n",
        "# df=df.drop([df.index[621],df.index[696]])\n",
        "# df=df.drop([df.index[695]])\n",
        "df['long'] = pd.to_numeric(df['long'])\n",
        "df['lat'] = pd.to_numeric(df['lat'])"
      ],
      "metadata": {
        "id": "283du-8MwT9f"
      },
      "execution_count": 130,
      "outputs": []
    },
    {
      "cell_type": "code",
      "source": [
        "df"
      ],
      "metadata": {
        "colab": {
          "base_uri": "https://localhost:8080/",
          "height": 423
        },
        "id": "4ravEVfCxzIh",
        "outputId": "87ef0c23-a3c4-4043-bf73-13831bbd4e8f"
      },
      "execution_count": 124,
      "outputs": [
        {
          "output_type": "execute_result",
          "data": {
            "text/plain": [
              "      Unnamed: 0    account1  followers           location  \\\n",
              "0            0.0   iliasx_01     1797.0          Eguisheim   \n",
              "1            1.0   iliasx_01     1797.0             Colmar   \n",
              "3            3.0   iliasx_01     1797.0             France   \n",
              "7            7.0   iliasx_01     1797.0                Οία   \n",
              "8            8.0   iliasx_01     1797.0  Ios island Greece   \n",
              "...          ...         ...        ...                ...   \n",
              "2390      1238.0  meilin0823      317.0         Night MOoD   \n",
              "2392      1240.0  meilin0823      317.0             France   \n",
              "2393      1241.0  meilin0823      317.0             France   \n",
              "2394      1242.0  meilin0823      317.0             France   \n",
              "2395      1243.0  meilin0823      317.0             France   \n",
              "\n",
              "                    long                 lat   likes                      time  \n",
              "0              7.3079618          48.0447968   925.0  2022-10-07T17:18:44.000Z  \n",
              "1              7.3579641          48.0777517   761.0  2022-10-09T17:14:18.000Z  \n",
              "3              7.7507127           48.584614  1098.0  2022-10-06T16:41:00.000Z  \n",
              "7             25.3757257          36.4622122  1548.0  2022-10-02T16:30:04.000Z  \n",
              "8      25.33311211846154          36.7173281  1308.0  2022-09-30T16:41:04.000Z  \n",
              "...                  ...                 ...     ...                       ...  \n",
              "2390  123.96884936944369  10.381203849999999     NaN  2021-03-28T20:03:20.000Z  \n",
              "2392  2.3200410217200766          48.8588897     NaN  2021-03-17T21:32:49.000Z  \n",
              "2393  2.3200410217200766          48.8588897     NaN  2021-03-09T20:14:14.000Z  \n",
              "2394  2.3200410217200766          48.8588897     NaN  2021-02-26T19:32:25.000Z  \n",
              "2395  2.3200410217200766          48.8588897     NaN  2021-02-23T20:35:26.000Z  \n",
              "\n",
              "[1499 rows x 8 columns]"
            ],
            "text/html": [
              "\n",
              "  <div id=\"df-47982d1f-5a9c-4349-a0d8-58da9cba9384\">\n",
              "    <div class=\"colab-df-container\">\n",
              "      <div>\n",
              "<style scoped>\n",
              "    .dataframe tbody tr th:only-of-type {\n",
              "        vertical-align: middle;\n",
              "    }\n",
              "\n",
              "    .dataframe tbody tr th {\n",
              "        vertical-align: top;\n",
              "    }\n",
              "\n",
              "    .dataframe thead th {\n",
              "        text-align: right;\n",
              "    }\n",
              "</style>\n",
              "<table border=\"1\" class=\"dataframe\">\n",
              "  <thead>\n",
              "    <tr style=\"text-align: right;\">\n",
              "      <th></th>\n",
              "      <th>Unnamed: 0</th>\n",
              "      <th>account1</th>\n",
              "      <th>followers</th>\n",
              "      <th>location</th>\n",
              "      <th>long</th>\n",
              "      <th>lat</th>\n",
              "      <th>likes</th>\n",
              "      <th>time</th>\n",
              "    </tr>\n",
              "  </thead>\n",
              "  <tbody>\n",
              "    <tr>\n",
              "      <th>0</th>\n",
              "      <td>0.0</td>\n",
              "      <td>iliasx_01</td>\n",
              "      <td>1797.0</td>\n",
              "      <td>Eguisheim</td>\n",
              "      <td>7.3079618</td>\n",
              "      <td>48.0447968</td>\n",
              "      <td>925.0</td>\n",
              "      <td>2022-10-07T17:18:44.000Z</td>\n",
              "    </tr>\n",
              "    <tr>\n",
              "      <th>1</th>\n",
              "      <td>1.0</td>\n",
              "      <td>iliasx_01</td>\n",
              "      <td>1797.0</td>\n",
              "      <td>Colmar</td>\n",
              "      <td>7.3579641</td>\n",
              "      <td>48.0777517</td>\n",
              "      <td>761.0</td>\n",
              "      <td>2022-10-09T17:14:18.000Z</td>\n",
              "    </tr>\n",
              "    <tr>\n",
              "      <th>3</th>\n",
              "      <td>3.0</td>\n",
              "      <td>iliasx_01</td>\n",
              "      <td>1797.0</td>\n",
              "      <td>France</td>\n",
              "      <td>7.7507127</td>\n",
              "      <td>48.584614</td>\n",
              "      <td>1098.0</td>\n",
              "      <td>2022-10-06T16:41:00.000Z</td>\n",
              "    </tr>\n",
              "    <tr>\n",
              "      <th>7</th>\n",
              "      <td>7.0</td>\n",
              "      <td>iliasx_01</td>\n",
              "      <td>1797.0</td>\n",
              "      <td>Οία</td>\n",
              "      <td>25.3757257</td>\n",
              "      <td>36.4622122</td>\n",
              "      <td>1548.0</td>\n",
              "      <td>2022-10-02T16:30:04.000Z</td>\n",
              "    </tr>\n",
              "    <tr>\n",
              "      <th>8</th>\n",
              "      <td>8.0</td>\n",
              "      <td>iliasx_01</td>\n",
              "      <td>1797.0</td>\n",
              "      <td>Ios island Greece</td>\n",
              "      <td>25.33311211846154</td>\n",
              "      <td>36.7173281</td>\n",
              "      <td>1308.0</td>\n",
              "      <td>2022-09-30T16:41:04.000Z</td>\n",
              "    </tr>\n",
              "    <tr>\n",
              "      <th>...</th>\n",
              "      <td>...</td>\n",
              "      <td>...</td>\n",
              "      <td>...</td>\n",
              "      <td>...</td>\n",
              "      <td>...</td>\n",
              "      <td>...</td>\n",
              "      <td>...</td>\n",
              "      <td>...</td>\n",
              "    </tr>\n",
              "    <tr>\n",
              "      <th>2390</th>\n",
              "      <td>1238.0</td>\n",
              "      <td>meilin0823</td>\n",
              "      <td>317.0</td>\n",
              "      <td>Night MOoD</td>\n",
              "      <td>123.96884936944369</td>\n",
              "      <td>10.381203849999999</td>\n",
              "      <td>NaN</td>\n",
              "      <td>2021-03-28T20:03:20.000Z</td>\n",
              "    </tr>\n",
              "    <tr>\n",
              "      <th>2392</th>\n",
              "      <td>1240.0</td>\n",
              "      <td>meilin0823</td>\n",
              "      <td>317.0</td>\n",
              "      <td>France</td>\n",
              "      <td>2.3200410217200766</td>\n",
              "      <td>48.8588897</td>\n",
              "      <td>NaN</td>\n",
              "      <td>2021-03-17T21:32:49.000Z</td>\n",
              "    </tr>\n",
              "    <tr>\n",
              "      <th>2393</th>\n",
              "      <td>1241.0</td>\n",
              "      <td>meilin0823</td>\n",
              "      <td>317.0</td>\n",
              "      <td>France</td>\n",
              "      <td>2.3200410217200766</td>\n",
              "      <td>48.8588897</td>\n",
              "      <td>NaN</td>\n",
              "      <td>2021-03-09T20:14:14.000Z</td>\n",
              "    </tr>\n",
              "    <tr>\n",
              "      <th>2394</th>\n",
              "      <td>1242.0</td>\n",
              "      <td>meilin0823</td>\n",
              "      <td>317.0</td>\n",
              "      <td>France</td>\n",
              "      <td>2.3200410217200766</td>\n",
              "      <td>48.8588897</td>\n",
              "      <td>NaN</td>\n",
              "      <td>2021-02-26T19:32:25.000Z</td>\n",
              "    </tr>\n",
              "    <tr>\n",
              "      <th>2395</th>\n",
              "      <td>1243.0</td>\n",
              "      <td>meilin0823</td>\n",
              "      <td>317.0</td>\n",
              "      <td>France</td>\n",
              "      <td>2.3200410217200766</td>\n",
              "      <td>48.8588897</td>\n",
              "      <td>NaN</td>\n",
              "      <td>2021-02-23T20:35:26.000Z</td>\n",
              "    </tr>\n",
              "  </tbody>\n",
              "</table>\n",
              "<p>1499 rows × 8 columns</p>\n",
              "</div>\n",
              "      <button class=\"colab-df-convert\" onclick=\"convertToInteractive('df-47982d1f-5a9c-4349-a0d8-58da9cba9384')\"\n",
              "              title=\"Convert this dataframe to an interactive table.\"\n",
              "              style=\"display:none;\">\n",
              "        \n",
              "  <svg xmlns=\"http://www.w3.org/2000/svg\" height=\"24px\"viewBox=\"0 0 24 24\"\n",
              "       width=\"24px\">\n",
              "    <path d=\"M0 0h24v24H0V0z\" fill=\"none\"/>\n",
              "    <path d=\"M18.56 5.44l.94 2.06.94-2.06 2.06-.94-2.06-.94-.94-2.06-.94 2.06-2.06.94zm-11 1L8.5 8.5l.94-2.06 2.06-.94-2.06-.94L8.5 2.5l-.94 2.06-2.06.94zm10 10l.94 2.06.94-2.06 2.06-.94-2.06-.94-.94-2.06-.94 2.06-2.06.94z\"/><path d=\"M17.41 7.96l-1.37-1.37c-.4-.4-.92-.59-1.43-.59-.52 0-1.04.2-1.43.59L10.3 9.45l-7.72 7.72c-.78.78-.78 2.05 0 2.83L4 21.41c.39.39.9.59 1.41.59.51 0 1.02-.2 1.41-.59l7.78-7.78 2.81-2.81c.8-.78.8-2.07 0-2.86zM5.41 20L4 18.59l7.72-7.72 1.47 1.35L5.41 20z\"/>\n",
              "  </svg>\n",
              "      </button>\n",
              "      \n",
              "  <style>\n",
              "    .colab-df-container {\n",
              "      display:flex;\n",
              "      flex-wrap:wrap;\n",
              "      gap: 12px;\n",
              "    }\n",
              "\n",
              "    .colab-df-convert {\n",
              "      background-color: #E8F0FE;\n",
              "      border: none;\n",
              "      border-radius: 50%;\n",
              "      cursor: pointer;\n",
              "      display: none;\n",
              "      fill: #1967D2;\n",
              "      height: 32px;\n",
              "      padding: 0 0 0 0;\n",
              "      width: 32px;\n",
              "    }\n",
              "\n",
              "    .colab-df-convert:hover {\n",
              "      background-color: #E2EBFA;\n",
              "      box-shadow: 0px 1px 2px rgba(60, 64, 67, 0.3), 0px 1px 3px 1px rgba(60, 64, 67, 0.15);\n",
              "      fill: #174EA6;\n",
              "    }\n",
              "\n",
              "    [theme=dark] .colab-df-convert {\n",
              "      background-color: #3B4455;\n",
              "      fill: #D2E3FC;\n",
              "    }\n",
              "\n",
              "    [theme=dark] .colab-df-convert:hover {\n",
              "      background-color: #434B5C;\n",
              "      box-shadow: 0px 1px 3px 1px rgba(0, 0, 0, 0.15);\n",
              "      filter: drop-shadow(0px 1px 2px rgba(0, 0, 0, 0.3));\n",
              "      fill: #FFFFFF;\n",
              "    }\n",
              "  </style>\n",
              "\n",
              "      <script>\n",
              "        const buttonEl =\n",
              "          document.querySelector('#df-47982d1f-5a9c-4349-a0d8-58da9cba9384 button.colab-df-convert');\n",
              "        buttonEl.style.display =\n",
              "          google.colab.kernel.accessAllowed ? 'block' : 'none';\n",
              "\n",
              "        async function convertToInteractive(key) {\n",
              "          const element = document.querySelector('#df-47982d1f-5a9c-4349-a0d8-58da9cba9384');\n",
              "          const dataTable =\n",
              "            await google.colab.kernel.invokeFunction('convertToInteractive',\n",
              "                                                     [key], {});\n",
              "          if (!dataTable) return;\n",
              "\n",
              "          const docLinkHtml = 'Like what you see? Visit the ' +\n",
              "            '<a target=\"_blank\" href=https://colab.research.google.com/notebooks/data_table.ipynb>data table notebook</a>'\n",
              "            + ' to learn more about interactive tables.';\n",
              "          element.innerHTML = '';\n",
              "          dataTable['output_type'] = 'display_data';\n",
              "          await google.colab.output.renderOutput(dataTable, element);\n",
              "          const docLink = document.createElement('div');\n",
              "          docLink.innerHTML = docLinkHtml;\n",
              "          element.appendChild(docLink);\n",
              "        }\n",
              "      </script>\n",
              "    </div>\n",
              "  </div>\n",
              "  "
            ]
          },
          "metadata": {},
          "execution_count": 124
        }
      ]
    },
    {
      "cell_type": "code",
      "source": [
        "\n",
        "\n",
        "plt.figure(figsize=(20,10))\n",
        "x = df['long']\n",
        "y=df['lat']\n",
        "\n",
        "plt.scatter(x, y)\n",
        "plt.show()"
      ],
      "metadata": {
        "colab": {
          "base_uri": "https://localhost:8080/",
          "height": 592
        },
        "id": "G--FmNOWvdHH",
        "outputId": "45f85079-b3c7-47bb-d7f2-c81a46102b9c"
      },
      "execution_count": 131,
      "outputs": [
        {
          "output_type": "display_data",
          "data": {
            "text/plain": [
              "<Figure size 1440x720 with 1 Axes>"
            ],
            "image/png": "[encoded data removed]"
          },
          "metadata": {
            "needs_background": "light"
          }
        }
      ]
    },
    {
      "cell_type": "code",
      "source": [
        "from sklearn.cluster import KMeans\n",
        "\n",
        "data = list(zip(x, y))\n",
        "inertias = []\n",
        "\n",
        "for i in range(1,11):\n",
        "    kmeans = KMeans(n_clusters=i)\n",
        "    kmeans.fit(data)\n",
        "    inertias.append(kmeans.inertia_)\n",
        "\n",
        "plt.plot(range(1,11), inertias, marker='o')\n",
        "plt.title('Elbow method')\n",
        "plt.xlabel('Number of clusters')\n",
        "plt.ylabel('Inertia')\n",
        "plt.show()"
      ],
      "metadata": {
        "colab": {
          "base_uri": "https://localhost:8080/",
          "height": 295
        },
        "id": "byzvBzJIzUnu",
        "outputId": "2d0c8e32-8fd5-4339-f89d-1400a2a8bef5"
      },
      "execution_count": 132,
      "outputs": [
        {
          "output_type": "display_data",
          "data": {
            "text/plain": [
              "<Figure size 432x288 with 1 Axes>"
            ],
            "image/png": "[encoded data removed]"
          },
          "metadata": {
            "needs_background": "light"
          }
        }
      ]
    },
    {
      "cell_type": "code",
      "source": [
        "no_unique = pd.DataFrame({'Variable': df.columns,\n",
        "                               'Classes': [df[i].nunique() for i in df.columns]})\n",
        "\n",
        "no_unique = no_unique.sort_values('Classes', ascending=False) #sort in descending order of number of unique values.\n",
        "no_unique = no_unique.reset_index(drop = True) # reset the index back to the default 0, 1, 2 etc indexes."
      ],
      "metadata": {
        "id": "ovQT24Yg3mcS"
      },
      "execution_count": 161,
      "outputs": []
    },
    {
      "cell_type": "code",
      "source": [
        "no_unique"
      ],
      "metadata": {
        "colab": {
          "base_uri": "https://localhost:8080/",
          "height": 300
        },
        "id": "YzF9u7ZK3SzU",
        "outputId": "2e096bfc-f217-4a43-a6c4-943d4825c0b6"
      },
      "execution_count": 162,
      "outputs": [
        {
          "output_type": "execute_result",
          "data": {
            "text/plain": [
              "     Variable  Classes\n",
              "0        time     1458\n",
              "1  Unnamed: 0     1021\n",
              "2        long      729\n",
              "3         lat      729\n",
              "4       likes      643\n",
              "5    location      634\n",
              "6    account1       53\n",
              "7   followers       47"
            ],
            "text/html": [
              "\n",
              "  <div id=\"df-703a3ab3-7684-4090-b0db-1d570d45f868\">\n",
              "    <div class=\"colab-df-container\">\n",
              "      <div>\n",
              "<style scoped>\n",
              "    .dataframe tbody tr th:only-of-type {\n",
              "        vertical-align: middle;\n",
              "    }\n",
              "\n",
              "    .dataframe tbody tr th {\n",
              "        vertical-align: top;\n",
              "    }\n",
              "\n",
              "    .dataframe thead th {\n",
              "        text-align: right;\n",
              "    }\n",
              "</style>\n",
              "<table border=\"1\" class=\"dataframe\">\n",
              "  <thead>\n",
              "    <tr style=\"text-align: right;\">\n",
              "      <th></th>\n",
              "      <th>Variable</th>\n",
              "      <th>Classes</th>\n",
              "    </tr>\n",
              "  </thead>\n",
              "  <tbody>\n",
              "    <tr>\n",
              "      <th>0</th>\n",
              "      <td>time</td>\n",
              "      <td>1458</td>\n",
              "    </tr>\n",
              "    <tr>\n",
              "      <th>1</th>\n",
              "      <td>Unnamed: 0</td>\n",
              "      <td>1021</td>\n",
              "    </tr>\n",
              "    <tr>\n",
              "      <th>2</th>\n",
              "      <td>long</td>\n",
              "      <td>729</td>\n",
              "    </tr>\n",
              "    <tr>\n",
              "      <th>3</th>\n",
              "      <td>lat</td>\n",
              "      <td>729</td>\n",
              "    </tr>\n",
              "    <tr>\n",
              "      <th>4</th>\n",
              "      <td>likes</td>\n",
              "      <td>643</td>\n",
              "    </tr>\n",
              "    <tr>\n",
              "      <th>5</th>\n",
              "      <td>location</td>\n",
              "      <td>634</td>\n",
              "    </tr>\n",
              "    <tr>\n",
              "      <th>6</th>\n",
              "      <td>account1</td>\n",
              "      <td>53</td>\n",
              "    </tr>\n",
              "    <tr>\n",
              "      <th>7</th>\n",
              "      <td>followers</td>\n",
              "      <td>47</td>\n",
              "    </tr>\n",
              "  </tbody>\n",
              "</table>\n",
              "</div>\n",
              "      <button class=\"colab-df-convert\" onclick=\"convertToInteractive('df-703a3ab3-7684-4090-b0db-1d570d45f868')\"\n",
              "              title=\"Convert this dataframe to an interactive table.\"\n",
              "              style=\"display:none;\">\n",
              "        \n",
              "  <svg xmlns=\"http://www.w3.org/2000/svg\" height=\"24px\"viewBox=\"0 0 24 24\"\n",
              "       width=\"24px\">\n",
              "    <path d=\"M0 0h24v24H0V0z\" fill=\"none\"/>\n",
              "    <path d=\"M18.56 5.44l.94 2.06.94-2.06 2.06-.94-2.06-.94-.94-2.06-.94 2.06-2.06.94zm-11 1L8.5 8.5l.94-2.06 2.06-.94-2.06-.94L8.5 2.5l-.94 2.06-2.06.94zm10 10l.94 2.06.94-2.06 2.06-.94-2.06-.94-.94-2.06-.94 2.06-2.06.94z\"/><path d=\"M17.41 7.96l-1.37-1.37c-.4-.4-.92-.59-1.43-.59-.52 0-1.04.2-1.43.59L10.3 9.45l-7.72 7.72c-.78.78-.78 2.05 0 2.83L4 21.41c.39.39.9.59 1.41.59.51 0 1.02-.2 1.41-.59l7.78-7.78 2.81-2.81c.8-.78.8-2.07 0-2.86zM5.41 20L4 18.59l7.72-7.72 1.47 1.35L5.41 20z\"/>\n",
              "  </svg>\n",
              "      </button>\n",
              "      \n",
              "  <style>\n",
              "    .colab-df-container {\n",
              "      display:flex;\n",
              "      flex-wrap:wrap;\n",
              "      gap: 12px;\n",
              "    }\n",
              "\n",
              "    .colab-df-convert {\n",
              "      background-color: #E8F0FE;\n",
              "      border: none;\n",
              "      border-radius: 50%;\n",
              "      cursor: pointer;\n",
              "      display: none;\n",
              "      fill: #1967D2;\n",
              "      height: 32px;\n",
              "      padding: 0 0 0 0;\n",
              "      width: 32px;\n",
              "    }\n",
              "\n",
              "    .colab-df-convert:hover {\n",
              "      background-color: #E2EBFA;\n",
              "      box-shadow: 0px 1px 2px rgba(60, 64, 67, 0.3), 0px 1px 3px 1px rgba(60, 64, 67, 0.15);\n",
              "      fill: #174EA6;\n",
              "    }\n",
              "\n",
              "    [theme=dark] .colab-df-convert {\n",
              "      background-color: #3B4455;\n",
              "      fill: #D2E3FC;\n",
              "    }\n",
              "\n",
              "    [theme=dark] .colab-df-convert:hover {\n",
              "      background-color: #434B5C;\n",
              "      box-shadow: 0px 1px 3px 1px rgba(0, 0, 0, 0.15);\n",
              "      filter: drop-shadow(0px 1px 2px rgba(0, 0, 0, 0.3));\n",
              "      fill: #FFFFFF;\n",
              "    }\n",
              "  </style>\n",
              "\n",
              "      <script>\n",
              "        const buttonEl =\n",
              "          document.querySelector('#df-703a3ab3-7684-4090-b0db-1d570d45f868 button.colab-df-convert');\n",
              "        buttonEl.style.display =\n",
              "          google.colab.kernel.accessAllowed ? 'block' : 'none';\n",
              "\n",
              "        async function convertToInteractive(key) {\n",
              "          const element = document.querySelector('#df-703a3ab3-7684-4090-b0db-1d570d45f868');\n",
              "          const dataTable =\n",
              "            await google.colab.kernel.invokeFunction('convertToInteractive',\n",
              "                                                     [key], {});\n",
              "          if (!dataTable) return;\n",
              "\n",
              "          const docLinkHtml = 'Like what you see? Visit the ' +\n",
              "            '<a target=\"_blank\" href=https://colab.research.google.com/notebooks/data_table.ipynb>data table notebook</a>'\n",
              "            + ' to learn more about interactive tables.';\n",
              "          element.innerHTML = '';\n",
              "          dataTable['output_type'] = 'display_data';\n",
              "          await google.colab.output.renderOutput(dataTable, element);\n",
              "          const docLink = document.createElement('div');\n",
              "          docLink.innerHTML = docLinkHtml;\n",
              "          element.appendChild(docLink);\n",
              "        }\n",
              "      </script>\n",
              "    </div>\n",
              "  </div>\n",
              "  "
            ]
          },
          "metadata": {},
          "execution_count": 162
        }
      ]
    },
    {
      "cell_type": "code",
      "source": [
        "kmeans = KMeans(n_clusters=3)\n",
        "kmeans.fit(data)\n",
        "\n",
        "\n",
        "# sns.set(rc={'figure.figsize':(15,10)})\n",
        "sns.relplot(x=x, y=y, hue=kmeans.labels_, size=df['likes'], height=10, sizes=(50,300), markers=True,legend='auto',palette=sns.color_palette(\"bright\", 3))\n",
        "plt.show()"
      ],
      "metadata": {
        "colab": {
          "base_uri": "https://localhost:8080/",
          "height": 725
        },
        "id": "YhldEslbzhx5",
        "outputId": "98e221cb-4dc3-4cba-e9e2-79fba45d9c46"
      },
      "execution_count": 167,
      "outputs": [
        {
          "output_type": "display_data",
          "data": {
            "text/plain": [
              "<Figure size 794.6x720 with 1 Axes>"
            ],
            "image/png": "[encoded data removed]"
          },
          "metadata": {}
        }
      ]
    },
    {
      "cell_type": "code",
      "source": [
        "df.isna().sum()\n"
      ],
      "metadata": {
        "colab": {
          "base_uri": "https://localhost:8080/"
        },
        "id": "QCYUK-SS4lGv",
        "outputId": "f94ff873-9821-4586-82bf-b6b8b82c3a3f"
      },
      "execution_count": 168,
      "outputs": [
        {
          "output_type": "execute_result",
          "data": {
            "text/plain": [
              "Unnamed: 0      0\n",
              "account1        0\n",
              "followers       0\n",
              "location        0\n",
              "long            0\n",
              "lat             0\n",
              "likes         182\n",
              "time            0\n",
              "dtype: int64"
            ]
          },
          "metadata": {},
          "execution_count": 168
        }
      ]
    },
    {
      "cell_type": "code",
      "source": [
        "df = df[df['likes'].notna()]"
      ],
      "metadata": {
        "id": "0m7ItyUl4tG-"
      },
      "execution_count": 169,
      "outputs": []
    },
    {
      "cell_type": "code",
      "source": [
        "plt.figure(figsize=(20,10))\n",
        "x = df['followers']\n",
        "y=df['likes']\n",
        "\n",
        "plt.scatter(x, y)\n",
        "plt.show()"
      ],
      "metadata": {
        "colab": {
          "base_uri": "https://localhost:8080/",
          "height": 594
        },
        "id": "tjwc0DJP43JF",
        "outputId": "6ee11d84-7197-43f7-e68e-91d94d45fd84"
      },
      "execution_count": 170,
      "outputs": [
        {
          "output_type": "display_data",
          "data": {
            "text/plain": [
              "<Figure size 1440x720 with 1 Axes>"
            ],
            "image/png": "[encoded data removed]"
          },
          "metadata": {}
        }
      ]
    },
    {
      "cell_type": "code",
      "source": [
        "from sklearn.cluster import KMeans\n",
        "\n",
        "data = list(zip(x, y))\n",
        "inertias = []\n",
        "\n",
        "for i in range(1,11):\n",
        "    kmeans = KMeans(n_clusters=i)\n",
        "    kmeans.fit(data)\n",
        "    inertias.append(kmeans.inertia_)\n",
        "\n",
        "plt.plot(range(1,11), inertias, marker='o')\n",
        "plt.title('Elbow method')\n",
        "plt.xlabel('Number of clusters')\n",
        "plt.ylabel('Inertia')\n",
        "plt.show()"
      ],
      "metadata": {
        "colab": {
          "base_uri": "https://localhost:8080/",
          "height": 627
        },
        "id": "aFuooG_H5R5f",
        "outputId": "119dc3d7-28ef-4406-9608-1a9121b793a3"
      },
      "execution_count": 171,
      "outputs": [
        {
          "output_type": "display_data",
          "data": {
            "text/plain": [
              "<Figure size 1080x720 with 1 Axes>"
            ],
            "image/png": "[encoded data removed]"
          },
          "metadata": {}
        }
      ]
    },
    {
      "cell_type": "code",
      "source": [
        "kmeans = KMeans(n_clusters=4)\n",
        "kmeans.fit(data)\n",
        "\n",
        "\n",
        "# sns.set(rc={'figure.figsize':(15,10)})\n",
        "sns.relplot(x=x, y=y, hue=kmeans.labels_, height=10, sizes=(50,500), markers=True,legend='auto',palette=sns.color_palette(\"bright\", 4))\n",
        "plt.show()"
      ],
      "metadata": {
        "colab": {
          "base_uri": "https://localhost:8080/",
          "height": 725
        },
        "id": "RQ5eDFUd5YMf",
        "outputId": "229dfe86-9d84-4c5e-9803-6caa9203dcda"
      },
      "execution_count": 175,
      "outputs": [
        {
          "output_type": "display_data",
          "data": {
            "text/plain": [
              "<Figure size 766.6x720 with 1 Axes>"
            ],
            "image/png": "[encoded data removed]"
          },
          "metadata": {}
        }
      ]
    },
    {
      "cell_type": "code",
      "source": [
        "max_loc=['Rajasthan','Bulgaria','Sylt - Die Insel','Turkey','New York','United Kingdom','France','Korea','Austria','Spain','Armenia','Bretagne','Kent','Germany','Indonesia','Etxarri-Aranatz','Greece']\n",
        "df = df[df.location.isin(max_loc)]"
      ],
      "metadata": {
        "id": "cmdLWsVlqkM2"
      },
      "execution_count": 177,
      "outputs": []
    },
    {
      "cell_type": "code",
      "source": [
        "sns.barplot(x=df['location'],y=df['likes'])"
      ],
      "metadata": {
        "colab": {
          "base_uri": "https://localhost:8080/",
          "height": 628
        },
        "id": "dpYVaNxw70-H",
        "outputId": "8f3a9385-b999-47db-ec80-f8970d96f7c1"
      },
      "execution_count": 189,
      "outputs": [
        {
          "output_type": "execute_result",
          "data": {
            "text/plain": [
              "<matplotlib.axes._subplots.AxesSubplot at 0x7f389ca0ad10>"
            ]
          },
          "metadata": {},
          "execution_count": 189
        },
        {
          "output_type": "display_data",
          "data": {
            "text/plain": [
              "<Figure size 1080x720 with 1 Axes>"
            ],
            "image/png": "[encoded data removed]"
          },
          "metadata": {}
        }
      ]
    }
  ]
}